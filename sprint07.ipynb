{
 "cells": [
  {
   "cell_type": "markdown",
   "metadata": {},
   "source": [
    "**Nivel 1**\n",
    "\n",
    "**Ejercicio 1**\n",
    "\n",
    "**Calculadora del índice de masa corporal**\n",
    "\n",
    " Escribe una función que calcule el IMC ingresado por el usuario/a, es decir, quien lo ejecute deberá ingresar estos datos. Puedes obtener más información de su cálculo en:\n",
    "\n",
    " -> Índice de masa corporal IMC que es y cómo se calcula.\n",
    "\n",
    " La función debe clasificar el resultado en sus respectivas categorías\n"
   ]
  },
  {
   "cell_type": "markdown",
   "metadata": {},
   "source": [
    "Para calcular el IMC es necesario dividir el peso en kg de un paciente entre el cuadrado de su altura en metros. \n",
    "\n",
    "IMC =  Peso (Kg) / Altura (m^2)\n",
    "\n",
    "Con esto obtendremos un valor que se situará en uno de los siguientes rangos:\n",
    "\n",
    "**Rango de IMC**\n",
    "\n",
    "*Menos de 18.5      Bajo peso\n",
    "*18.5 – 25\t        Peso normal\n",
    "*25 – 30            Sobrepeso\n",
    "*más de 30        \tObesidad "
   ]
  },
  {
   "cell_type": "code",
   "execution_count": null,
   "metadata": {},
   "outputs": [],
   "source": [
    "\n",
    "def calculadora_imc(peso, altura):\n",
    "#Recibe 2 parametros: peso y altura, y devuelve el IMC calculado.\n",
    "  \n",
    "  # Verifica que la altura no sea cero para evitar división por cero\n",
    "  if altura <= 0:\n",
    "    raise ValueError(\"La altura no puede ser menor o igual a cero.\")\n",
    "  imc = peso / (altura ** 2)\n",
    "  return imc\n",
    "\n",
    "\n",
    "def clasificador_imc(imc):\n",
    " # Recibe el valor de imc como argumento y devuelve la categoría correspondiente.\n",
    "\n",
    "  if imc < 18.5:\n",
    "    return \"Bajo peso\"\n",
    "  elif 18.5 <= imc < 25:\n",
    "    return \"Peso normal\"\n",
    "  elif 25 <= imc < 30:\n",
    "    return \"Sobrepeso\"\n",
    "  else:\n",
    "    return \"Obesidad\"\n",
    "\n",
    "# Solicitar al usuario su peso y altura\n",
    "peso = float(input(\"Introduce tu peso en kilogramos: \"))\n",
    "altura = float(input(\"Introduce tu altura en metros: \"))\n",
    "\n",
    "#Calcukar el IMC y clasificarlo\n",
    "imc = calculadora_imc(peso, altura)\n",
    "categoria = clasificador_imc(imc)\n",
    "\n",
    "print(f\"Tu IMC es: {imc:.2f}\")\n",
    "print(f\"Categoría: {categoria}\")"
   ]
  },
  {
   "cell_type": "markdown",
   "metadata": {},
   "source": [
    "**Ejercicio 2**\n",
    "\n",
    "**Conversor de temperaturas**\n",
    "\n",
    "Existen diversas unidades de temperatura utilizadas en distintos contextos y regiones. Las más comunes son Celsius (°C), Fahrenheit (°F) y Kelvin (K). También existen otras unidades como Rankine (°Ra) y Réaumur (°Re). Selecciona al menos 2 conversores, de modo que al introducir una temperatura devuelva, como mínimo, dos conversiones.\n",
    "\n",
    "Las fórmulas de conversión de temperatura serían las siguientes:\n",
    "\n",
    "**Fórmula de conversión de Celsius a Fahrenheit**\n",
    "Fahrenheit = (Centígrados * 1.8) + 32\n",
    "\n",
    "**Fórmula de conversión de Fahrenheit a Celsius**\n",
    "Centígrados = (Fahrenheit - 32) / 1.8\n",
    "\n",
    "**Fórmula de conversión de Fahrenheit a Kelvin (°F a K)**\n",
    "Kelvin = ((Fahrenheit - 32) / 1.8) + 273.15\n",
    "\n",
    "**Fórmula de conversión de Kelvin a Fahrenheit (K a °F)**\n",
    "Fahrenheit = ((Kelvin - 273.15) * 1.8) + 32\n",
    "\n",
    "**Fórmula de conversión de Celsius a Kelvin (°C a K)**\n",
    "Kelvin = Centígrados + 273.15\n",
    "\n",
    "**Fórmula de conversión de Kelvin a Celsius (K a ℃)**\n",
    "Centígrados = Kelvin - 273.15"
   ]
  },
  {
   "cell_type": "code",
   "execution_count": null,
   "metadata": {},
   "outputs": [],
   "source": [
    "\n",
    "print(\"Conversor de Temperaturas\")\n",
    "\n",
    "try:\n",
    "    temperatura = float(input(\"Ingrese la temperatura: \"))\n",
    "    unidad_temperatura = input(\"Ingrese la unidad de la temperatura en Celsius (C), Fahrenheit (F) o Kelvin (K): \").upper()\n",
    "\n",
    "    if unidad_temperatura not in ('C', 'F', 'K'):\n",
    "        print(\"Unidad no válida. Por favor, ingrese C, F o K.\")\n",
    "    else:\n",
    "        if unidad_temperatura == 'C':\n",
    "            fahrenheit = (temperatura * 1.8) + 32\n",
    "            kelvin = temperatura + 273.15\n",
    "            print(f\"{temperatura}°C es igual a {fahrenheit:.2f}°F y {kelvin:.2f} K\")\n",
    "        elif unidad_temperatura == 'F':\n",
    "            celsius = (temperatura - 32) / 1.8    \n",
    "            kelvin = ((temperatura - 32) / 1.8)+ 273.15\n",
    "            print(f\"{temperatura}°F es igual a {celsius:.2f}°C y {kelvin:.2f} K\")\n",
    "        elif unidad_temperatura == 'K':\n",
    "            celsius = temperatura - 273.15\n",
    "            fahrenheit = ((temperatura - 273.15) * 1.8) + 32\n",
    "            print(f\"{temperatura} K es igual a {celsius:.2f}°C y {fahrenheit:.2f}°F\")\n",
    "\n",
    "except ValueError:\n",
    "    print(\"Entrada no válida. Por favor, ingrese un número para la temperatura.\")"
   ]
  },
  {
   "cell_type": "markdown",
   "metadata": {},
   "source": [
    "**Ejercicio 3**\n",
    "\n",
    "**Contador de palabras de un texto**\n",
    "\n",
    "Escribe una función que dado un texto, muestre las veces que aparece cada palabra."
   ]
  },
  {
   "cell_type": "code",
   "execution_count": 8,
   "metadata": {},
   "outputs": [
    {
     "name": "stdout",
     "output_type": "stream",
     "text": [
      "{'tú': 8, 'me': 9, 'quieres': 6, 'alba': 4, 'de': 8, 'espumas': 1, 'nácar': 1, 'que': 6, 'sea': 1, 'azucena': 1, 'sobre': 2, 'todas': 2, 'casta': 3, 'perfume': 1, 'tenue': 1, 'corola': 1, 'cerrada': 1, 'ni': 2, 'un': 1, 'rayo': 1, 'luna': 1, 'filtrado': 1, 'haya': 1, 'una': 1, 'margarita': 1, 'se': 2, 'diga': 1, 'mi': 1, 'hermana': 1, 'nívea': 2, 'blanca': 3, 'hubiste': 1, 'las': 7, 'copas': 1, 'a': 3, 'mano': 1, 'frutos': 1, 'y': 5, 'mieles': 1, 'los': 4, 'labios': 1, 'morados': 1, 'en': 4, 'el': 4, 'banquete': 1, 'cubierto': 1, 'pámpanos': 1, 'dejaste': 1, 'carnes': 2, 'festejando': 1, 'baco': 1, 'jardines': 1, 'negros': 1, 'del': 1, 'engaño': 1, 'vestido': 1, 'rojo': 1, 'corriste': 1, 'al': 2, 'estrago': 1, 'esqueleto': 1, 'conservas': 1, 'intacto': 1, 'no': 1, 'sé': 1, 'todavía': 1, 'por': 2, 'cuáles': 1, 'milagros': 1, 'pretendes': 3, 'dios': 2, 'te': 3, 'lo': 2, 'perdone': 2, '¡me': 1, 'huye': 1, 'hacia': 1, 'bosques': 1, 'vete': 1, 'la': 3, 'montaña': 1, 'límpiate': 1, 'boca': 1, 'vive': 1, 'cabañas': 1, 'toca': 1, 'con': 4, 'manos': 1, 'tierra': 1, 'mojada': 1, 'alimenta': 1, 'cuerpo': 1, 'raíz': 1, 'amarga': 1, 'bebe': 1, 'rocas': 1, 'duerme': 1, 'escarcha': 1, 'renueva': 1, 'tejidos': 1, 'salitre': 1, 'agua': 1, 'habla': 1, 'pájaros': 1, 'lévate': 1, 'cuando': 2, 'sean': 1, 'tornadas': 1, 'hayas': 1, 'puesto': 1, 'ellas': 1, 'alma': 1, 'alcobas': 1, 'quedó': 1, 'enredada': 1, 'entonces': 1, 'buen': 1, 'hombre': 1, 'preténdeme': 3}\n"
     ]
    }
   ],
   "source": [
    "\n",
    "def preparar_texto(texto):\n",
    "    #Toma como argumento una cadena (texto), la pone en minusculas, elimina caracteres especiales y devuelve una lista de palabras\n",
    "    \n",
    "    texto = texto.lower()  #convierte una cadena de texto a minusculas\n",
    "    \n",
    "    eliminar = \",;:.*?\\n!\\\"'()\"   #elimina los caracteres especiales de una cadena de texto y los sustituye por un espacio en blanco\n",
    "    for caracter in eliminar:\n",
    "        texto = texto.replace(caracter,\" \")\n",
    "\n",
    "    palabras = texto.split()   #divide una cadena de texto en palabras individuales\n",
    "    return palabras  \n",
    "\n",
    "def contador_palabras(palabras):\n",
    "#Toma como argumento una lista de palabras y devuelve un diccionario que contiene cada palabra como clave y el numero de veces que se repite en el texto como valor\n",
    "\n",
    "    frecuencia_palabras = {}\n",
    "    for palabra in palabras:\n",
    "        if palabra in frecuencia_palabras:\n",
    "            frecuencia_palabras[palabra]+= 1\n",
    "        else:\n",
    "            frecuencia_palabras[palabra] = 1\n",
    "    return frecuencia_palabras\n",
    "\n",
    "\n",
    "texto = input(\"Ingrese su texto: \")\n",
    "texto_limpio = preparar_texto(texto)\n",
    "diccionario_frecuencia = contador_palabras(texto_limpio)\n",
    "print(diccionario_frecuencia)\n",
    "    "
   ]
  },
  {
   "cell_type": "code",
   "execution_count": 9,
   "metadata": {},
   "outputs": [
    {
     "name": "stdout",
     "output_type": "stream",
     "text": [
      "{'tú': 8, 'me': 9, 'quieres': 6, 'alba': 4, 'de': 8, 'espumas': 1, 'nácar': 1, 'que': 6, 'sea': 1, 'azucena': 1, 'sobre': 2, 'todas': 2, 'casta': 3, 'perfume': 1, 'tenue': 1, 'corola': 1, 'cerrada': 1, 'ni': 2, 'un': 1, 'rayo': 1, 'luna': 1, 'filtrado': 1, 'haya': 1, 'una': 1, 'margarita': 1, 'se': 2, 'diga': 1, 'mi': 1, 'hermana': 1, 'nívea': 2, 'blanca': 3, 'hubiste': 1, 'las': 7, 'copas': 1, 'a': 3, 'mano': 1, 'frutos': 1, 'y': 5, 'mieles': 1, 'los': 4, 'labios': 1, 'morados': 1, 'en': 4, 'el': 4, 'banquete': 1, 'cubierto': 1, 'pámpanos': 1, 'dejaste': 1, 'carnes': 2, 'festejando': 1, 'baco': 1, 'jardines': 1, 'negros': 1, 'del': 1, 'engaño': 1, 'vestido': 1, 'rojo': 1, 'corriste': 1, 'al': 2, 'estrago': 1, 'esqueleto': 1, 'conservas': 1, 'intacto': 1, 'no': 1, 'sé': 1, 'todavía': 1, 'por': 2, 'cuáles': 1, 'milagros': 1, 'pretendes': 3, 'dios': 2, 'te': 3, 'lo': 2, 'perdone': 2, '¡me': 1, 'huye': 1, 'hacia': 1, 'bosques': 1, 'vete': 1, 'la': 3, 'montaña': 1, 'límpiate': 1, 'boca': 1, 'vive': 1, 'cabañas': 1, 'toca': 1, 'con': 4, 'manos': 1, 'tierra': 1, 'mojada': 1, 'alimenta': 1, 'cuerpo': 1, 'raíz': 1, 'amarga': 1, 'bebe': 1, 'rocas': 1, 'duerme': 1, 'escarcha': 1, 'renueva': 1, 'tejidos': 1, 'salitre': 1, 'agua': 1, 'habla': 1, 'pájaros': 1, 'lévate': 1, 'cuando': 2, 'sean': 1, 'tornadas': 1, 'hayas': 1, 'puesto': 1, 'ellas': 1, 'alma': 1, 'alcobas': 1, 'quedó': 1, 'enredada': 1, 'entonces': 1, 'buen': 1, 'hombre': 1, 'preténdeme': 3}\n"
     ]
    }
   ],
   "source": [
    "from collections import Counter\n",
    "\n",
    "def preparar_texto(texto):\n",
    "    #Toma como argumento una cadena (texto), la pone en minusculas, elimina caracteres especiales y devuelve una lista de palabras\n",
    "    \n",
    "    texto = texto.lower()  #convierte una cadena de texto a minusculas\n",
    "    \n",
    "    eliminar = \",;:.*?\\n!\\\"'()\"   #elimina los caracteres especiales de una cadena de texto y los sustituye por un espacio en blanco\n",
    "    for caracter in eliminar:\n",
    "        texto = texto.replace(caracter,\" \")\n",
    "\n",
    "    palabras = texto.split()   #divide una cadena de texto en palabras individuales\n",
    "    return palabras  \n",
    "\n",
    "\n",
    "texto = input(\"Ingrese su texto: \")\n",
    "texto_limpio = preparar_texto(texto)\n",
    "contador = Counter(texto_limpio)  # Counter es una clase del módulo collections de Python que sirve para contar la frecuencia de elementos en una lista u otra colección.\n",
    "print(dict(contador))  # Convertir Counter a dict estándar y mostrar el resultado"
   ]
  },
  {
   "cell_type": "markdown",
   "metadata": {},
   "source": [
    "**Ejercicio 4**\n",
    "\n",
    "**Diccionario inverso**\n",
    "\n",
    "Resulta que el cliente tiene una encuesta muy antigua que se almacena en un diccionario y los resultados los necesita a la inversa, es decir, intercambiados las claves y valores. Los valores y claves en el diccionario original son únicos; si éste no es el caso, la función debería imprimir un mensaje de advertencia, como en el ejemplo de abajo:\n",
    "\n",
    "reverse_dictionary({'a': 1, 'b': 2, 'c': 3})\n",
    "{1: 'a', 2: 'b', 3: 'c'}\n",
    "\n",
    "reverse_dictionary({'x': 'apple', 'y': 'banana', 'z': 'banana'})\n",
    "Error: multiple keys for one value"
   ]
  },
  {
   "cell_type": "code",
   "execution_count": null,
   "metadata": {},
   "outputs": [],
   "source": [
    "def reverse_dictionary(diccionario):\n",
    "    \"\"\"\n",
    "    Esta función toma un diccionario como argumento para invertirlo\n",
    "    Devuelve un nuevo diccionario en el que los valores del diccionario original son las claves y las claves del diccionario original son los valores.\n",
    "    \"\"\"\n",
    "     # Inicializamos un diccionario vacío que contendrá el diccionario invertido.\n",
    "    diccionario_invertido = {}\n",
    "    for key, value in diccionario.items():\n",
    "        if value in diccionario_invertido:  #Realiza una verificación de que no haya valores duplicados en el diccionario original. \n",
    "            print(\"Error: múltiples claves para el valor:\", value)\n",
    "            return None\n",
    "        diccionario_invertido[value] = key \n",
    "    return diccionario_invertido"
   ]
  },
  {
   "cell_type": "code",
   "execution_count": 2,
   "metadata": {},
   "outputs": [
    {
     "name": "stdout",
     "output_type": "stream",
     "text": [
      "Error: múltiples claves para el valor: banana\n"
     ]
    }
   ],
   "source": [
    "reverse_dictionary({'x': 'apple', 'y': 'banana', 'z': 'banana'})"
   ]
  },
  {
   "cell_type": "code",
   "execution_count": 3,
   "metadata": {},
   "outputs": [
    {
     "data": {
      "text/plain": [
       "{1: 'a', 2: 'b', 3: 'c'}"
      ]
     },
     "execution_count": 3,
     "metadata": {},
     "output_type": "execute_result"
    }
   ],
   "source": [
    "reverse_dictionary({'a': 1, 'b': 2, 'c': 3})"
   ]
  },
  {
   "cell_type": "markdown",
   "metadata": {},
   "source": [
    "**Nivel 2**\n",
    "\n",
    "**Ejercicio 1**\n",
    "**\n",
    "**Diccionario inverso con duplicados**\n",
    "\n",
    "Continuando con el ejercicio 4 del nivel 1: al cliente se olvidó comentar un detalle y resulta que los valores en el diccionario original pueden duplicarse y más, por lo que las claves intercambiadas pueden tener duplicados. En este caso, en el ejercicio anterior imprimían un mensaje de advertencia, ahora, los valores del diccionario resultante tendrán que almacenarse como una lista. Ten en cuenta que si es un valor único no debe ser una lista.\n",
    "\n",
    "reverse_dictionary_plus({'x': 'apple', 'y': 'banana', 'z': 'banana'})\n",
    "{'apple': 'x', 'banana': ['y', 'z']}\n"
   ]
  },
  {
   "cell_type": "code",
   "execution_count": 10,
   "metadata": {},
   "outputs": [],
   "source": [
    "from collections import defaultdict\n",
    "\n",
    "def reverse_dictionary_plus(diccionario):\n",
    "    \"\"\"\n",
    "    Toma como argumento un diccionario y devuelve un nuevo diccionario donde los valores del diccionario original se convierten en claves, y las claves originales se convierten en valores.\n",
    "    En el nuevo diccionario, los valores son listas de claves si hay duplicados, o la clave única si no hay duplicados.\n",
    "    \n",
    "    \"\"\"\n",
    "    diccionario_invertido2 = defaultdict(list)\n",
    "    # Creamos un diccionario especial llamado 'defaultdict' del módulo 'collections'.\n",
    "    for clave, valor in diccionario.items():\n",
    "        diccionario_invertido2[valor].append(clave)\n",
    "\n",
    "# Creamos un diccionario estándar ('dict') para presentar el diccionario en el formato solicitado.\n",
    "    dict_final = {}\n",
    "    for valor, claves in diccionario_invertido2.items():\n",
    "        if len(claves) == 1:\n",
    "            dict_final[valor] = claves[0]  #Convierte lista de un solo elemento en un valor único\n",
    "        else:\n",
    "            dict_final[valor] = claves\n",
    "    return dict_final"
   ]
  },
  {
   "cell_type": "code",
   "execution_count": 11,
   "metadata": {},
   "outputs": [
    {
     "data": {
      "text/plain": [
       "{'apple': 'x', 'banana': ['y', 'z']}"
      ]
     },
     "execution_count": 11,
     "metadata": {},
     "output_type": "execute_result"
    }
   ],
   "source": [
    "reverse_dictionary_plus({'x': 'apple', 'y': 'banana', 'z': 'banana'})"
   ]
  },
  {
   "cell_type": "markdown",
   "metadata": {},
   "source": [
    "**Ejercicio 2**\n",
    "\n",
    "**Conversión de tipos de datos**\n",
    "\n",
    "El cliente recibe una lista de datos y necesita generar dos listas, la primera donde estarán todos los elementos que pudieron convertirse en flotantes (float) y la otra donde están los elementos que no pudieron convertirse. Ejemplo de la lista que recibe el cliente: \n",
    "\n",
    "[ '1.3', 'one' , '1e10' , 'seven', '3-1/2', ('2',1,1.4,'not-a-number'), [1,2,'3','3.4']]\n",
    "\n",
    "conversion(['1.3', 'one', '1e10', 'seven', '3-1/2', ('2', 1, 1.4, 'not-a-number'), [1, 2, '3', '3.4']])\n",
    "([1.3, 10000000000.0, 2.0, 1.0, 1.4, 1.0, 2.0, 3.0, 3.4], ['one', 'seven', '3-1/2', 'not-a-number'])\n"
   ]
  },
  {
   "cell_type": "markdown",
   "metadata": {},
   "source": [
    "**Nivel 3**\n",
    "\n",
    "**Ejercicio 1**\n",
    "\n",
    "**Contador y ordenador de palabras de un texto**\n",
    "\n",
    "El cliente quedó contento con el contador de palabras, pero ahora quiere leer archivos TXT y que calcule la frecuencia de cada palabra ordenadas dentro de las entradas habituales del diccionario según la letra con la que comienzan, es decir, las claves deben ir de la A a la Z y dentro de la A debemos ir de la A a Z. \"tu_me_quieres_blanca.txt\" la salida esperada sería:\n"
   ]
  },
  {
   "cell_type": "markdown",
   "metadata": {},
   "source": [
    "{'a': {'a': 3,\n",
    "'agua': 1,\n",
    "'al': 2,\n",
    "'alba': 4,\n",
    "'alcobas': 1,\n",
    "'alimenta': 1,\n",
    "'alma': 1,\n",
    "'amarga': 1,\n",
    "'azucena': 1},\n",
    "'b': {'baco': 1,\n",
    "'banquete': 1,\n",
    "'bebe': 1,\n",
    "'blanca': 3,\n",
    "'boca': 1,\n",
    "'bosques': 1,\n",
    "'buen': 1},\n",
    "'c': {'cabañas': 1,\n",
    "'carnes': 2,\n",
    "'casta': 3,\n",
    "'cerrada': 1,\n",
    "'con': 4,\n",
    "'conservas': 1,\n",
    "'copas': 1,\n",
    "'corola': 1,\n",
    "'corriste': 1,\n",
    "...\n",
    "tornadas': 1,\n",
    "'tú': 8},\n",
    "'u': {'un': 1, 'una': 1},\n",
    "'v': {'vestido': 1, 'vete': 1, 'vive': 1},\n",
    "y': {'y': 5}}"
   ]
  },
  {
   "cell_type": "code",
   "execution_count": 12,
   "metadata": {},
   "outputs": [],
   "source": [
    "from collections import defaultdict\n",
    "\n",
    "def leer_archivo(ruta_archivo):\n",
    "    #Lee el contenido de un archivo de texto (.txt). Como argumento, necesita su ruta absoluta\n",
    "    try:\n",
    "        with open(ruta_archivo, 'r', encoding='utf-8') as archivo:\n",
    "            texto = archivo.read()\n",
    "        return texto\n",
    "    except FileNotFoundError:\n",
    "        return f\"Error: El archivo no fue encontrado en la ruta: {ruta_archivo}\"\n",
    "    except Exception as e:\n",
    "        return f\"Ocurrió un error al leer el archivo: {e}\"\n",
    "\n",
    "def limpiar_texto(texto):\n",
    "    #Toma como argumento un texto, lo limpia y lo divide en palabras. Elimina caracteres signos de puntuacion y caracteres especiales, convierte el texto a minúsculas y lo divide en palabras\n",
    "    if isinstance(texto, str):\n",
    "        texto = texto.lower()  #convierte una cadena de texto a minusculas\n",
    "        eliminar = \",;:.*?\\n!\\\"'()\"   #elimina los caracteres especiales de una cadena de texto y los sustituye por un espacio en blanco\n",
    "        for caracter in eliminar:\n",
    "            texto = texto.replace(caracter,\" \")\n",
    "        palabras = texto.split()   #divide una cadena de texto en palabras individuales\n",
    "        return palabras  \n",
    "    return []\n",
    "\n",
    "def contar_y_ordenar_palabras(palabras):\n",
    "    \"\"\"Cuenta la frecuencia de las palabras y las ordena alfabéticamente.\"\"\"\n",
    "    frecuencia = defaultdict(int)\n",
    "    for palabra in palabras:\n",
    "        frecuencia[palabra] += 1\n",
    "    return dict(sorted(frecuencia.items()))\n",
    "\n",
    "def organizar_por_letra_inicial(palabras_ordenadas):\n",
    "    \"\"\"Organiza las palabras por su letra inicial en un diccionario anidado.\"\"\"\n",
    "    resultado = defaultdict(dict)\n",
    "    for palabra, frecuencia in palabras_ordenadas.items():\n",
    "        letra_inicial = palabra[0]\n",
    "        resultado[letra_inicial][palabra] = frecuencia\n",
    "    return dict(resultado)\n",
    "\n",
    "\n",
    "def main():\n",
    "    ruta_del_archivo = \"C:\\\\it_academy\\\\da_sprint07\\\\tu_me_quieres_blanca.txt\"\n",
    "    texto = leer_archivo(ruta_del_archivo)\n",
    "\n",
    "    if isinstance(texto, str):\n",
    "        palabras = limpiar_texto(texto)\n",
    "        frecuencia = contar_y_ordenar_palabras(palabras)\n",
    "        resultado = organizar_por_letra_inicial(frecuencia)\n",
    "        print(resultado)\n",
    "    else:\n",
    "        print(texto)"
   ]
  },
  {
   "cell_type": "code",
   "execution_count": 13,
   "metadata": {},
   "outputs": [
    {
     "name": "stdout",
     "output_type": "stream",
     "text": [
      "{'a': {'a': 3, 'agua': 1, 'al': 2, 'alba': 4, 'alcobas': 1, 'alimenta': 1, 'alma': 1, 'amarga': 1, 'azucena': 1}, 'b': {'baco': 1, 'banquete': 1, 'bebe': 1, 'blanca': 3, 'boca': 1, 'bosques': 1, 'buen': 1}, 'c': {'cabañas': 1, 'carnes': 2, 'casta': 3, 'cerrada': 1, 'con': 4, 'conservas': 1, 'copas': 1, 'corola': 1, 'corriste': 1, 'cuando': 2, 'cubierto': 1, 'cuerpo': 1, 'cuáles': 1}, 'd': {'de': 8, 'dejaste': 1, 'del': 1, 'diga': 1, 'dios': 2, 'duerme': 1}, 'e': {'el': 4, 'ellas': 1, 'en': 4, 'engaño': 1, 'enredada': 1, 'entonces': 1, 'escarcha': 1, 'espumas': 1, 'esqueleto': 1, 'estrago': 1}, 'f': {'festejando': 1, 'filtrado': 1, 'frutos': 1}, 'h': {'habla': 1, 'hacia': 1, 'haya': 1, 'hayas': 1, 'hermana': 1, 'hombre': 1, 'hubiste': 1, 'huye': 1}, 'i': {'intacto': 1}, 'j': {'jardines': 1}, 'l': {'la': 3, 'labios': 1, 'las': 7, 'lo': 2, 'los': 4, 'luna': 1, 'lévate': 1, 'límpiate': 1}, 'm': {'mano': 1, 'manos': 1, 'margarita': 1, 'me': 9, 'mi': 1, 'mieles': 1, 'milagros': 1, 'mojada': 1, 'montaña': 1, 'morados': 1}, 'n': {'negros': 1, 'ni': 2, 'no': 1, 'nácar': 1, 'nívea': 2}, 'p': {'perdone': 2, 'perfume': 1, 'por': 2, 'pretendes': 3, 'preténdeme': 3, 'puesto': 1, 'pájaros': 1, 'pámpanos': 1}, 'q': {'que': 6, 'quedó': 1, 'quieres': 6}, 'r': {'rayo': 1, 'raíz': 1, 'renueva': 1, 'rocas': 1, 'rojo': 1}, 's': {'salitre': 1, 'se': 2, 'sea': 1, 'sean': 1, 'sobre': 2, 'sé': 1}, 't': {'te': 3, 'tejidos': 1, 'tenue': 1, 'tierra': 1, 'toca': 1, 'todas': 2, 'todavía': 1, 'tornadas': 1, 'tú': 8}, 'u': {'un': 1, 'una': 1}, 'v': {'vestido': 1, 'vete': 1, 'vive': 1}, 'y': {'y': 5}, '¡': {'¡me': 1}}\n"
     ]
    }
   ],
   "source": [
    "main()"
   ]
  }
 ],
 "metadata": {
  "kernelspec": {
   "display_name": "Python 3",
   "language": "python",
   "name": "python3"
  },
  "language_info": {
   "codemirror_mode": {
    "name": "ipython",
    "version": 3
   },
   "file_extension": ".py",
   "mimetype": "text/x-python",
   "name": "python",
   "nbconvert_exporter": "python",
   "pygments_lexer": "ipython3",
   "version": "3.13.0"
  }
 },
 "nbformat": 4,
 "nbformat_minor": 2
}
